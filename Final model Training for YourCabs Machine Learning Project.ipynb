{
 "cells": [
  {
   "cell_type": "code",
   "execution_count": 1,
   "id": "a5d0ccdc",
   "metadata": {},
   "outputs": [],
   "source": [
    "import numpy as np\n",
    "import pandas as pd\n",
    "import matplotlib.pyplot as plt \n",
    "%matplotlib inline "
   ]
  },
  {
   "cell_type": "code",
   "execution_count": 2,
   "id": "2eb7a33e",
   "metadata": {},
   "outputs": [],
   "source": [
    "df=pd.read_csv('YourCabs.csv')\n"
   ]
  },
  {
   "cell_type": "code",
   "execution_count": 3,
   "id": "02102d42",
   "metadata": {},
   "outputs": [],
   "source": [
    "# · vehicle_model_id\n",
    "# · package_id\n",
    "# · travel_type_id\n",
    "# . from_area_id\n",
    "# · to_area_id\n",
    "# . from_city_id\n",
    "# · to_city_id\n",
    "# . days_before_booking\n",
    "# . online_booking\n",
    "# . mobile_site_booking\n",
    "# . from_month\n",
    "# . from_weekday\n",
    "# . booking_month\n",
    "# · booking_weekday"
   ]
  },
  {
   "cell_type": "code",
   "execution_count": 4,
   "id": "2244ae75",
   "metadata": {},
   "outputs": [],
   "source": [
    "columns_to_drop=['id','user_id','from_lat','from_long','to_lat','to_long']"
   ]
  },
  {
   "cell_type": "code",
   "execution_count": 5,
   "id": "3c98a381",
   "metadata": {},
   "outputs": [],
   "source": [
    "df.drop(columns_to_drop,axis=1,inplace=True)"
   ]
  },
  {
   "cell_type": "code",
   "execution_count": 6,
   "id": "864c3510",
   "metadata": {},
   "outputs": [],
   "source": [
    "df.fillna(0,inplace=True)"
   ]
  },
  {
   "cell_type": "code",
   "execution_count": 7,
   "id": "ed056556",
   "metadata": {},
   "outputs": [
    {
     "data": {
      "text/html": [
       "<div>\n",
       "<style scoped>\n",
       "    .dataframe tbody tr th:only-of-type {\n",
       "        vertical-align: middle;\n",
       "    }\n",
       "\n",
       "    .dataframe tbody tr th {\n",
       "        vertical-align: top;\n",
       "    }\n",
       "\n",
       "    .dataframe thead th {\n",
       "        text-align: right;\n",
       "    }\n",
       "</style>\n",
       "<table border=\"1\" class=\"dataframe\">\n",
       "  <thead>\n",
       "    <tr style=\"text-align: right;\">\n",
       "      <th></th>\n",
       "      <th></th>\n",
       "      <th>Car_Cancellation</th>\n",
       "    </tr>\n",
       "    <tr>\n",
       "      <th>online_booking</th>\n",
       "      <th>mobile_site_booking</th>\n",
       "      <th></th>\n",
       "    </tr>\n",
       "  </thead>\n",
       "  <tbody>\n",
       "    <tr>\n",
       "      <th rowspan=\"2\" valign=\"top\">0</th>\n",
       "      <th>0</th>\n",
       "      <td>940</td>\n",
       "    </tr>\n",
       "    <tr>\n",
       "      <th>1</th>\n",
       "      <td>289</td>\n",
       "    </tr>\n",
       "    <tr>\n",
       "      <th>1</th>\n",
       "      <th>0</th>\n",
       "      <td>1903</td>\n",
       "    </tr>\n",
       "  </tbody>\n",
       "</table>\n",
       "</div>"
      ],
      "text/plain": [
       "                                    Car_Cancellation\n",
       "online_booking mobile_site_booking                  \n",
       "0              0                                 940\n",
       "               1                                 289\n",
       "1              0                                1903"
      ]
     },
     "execution_count": 7,
     "metadata": {},
     "output_type": "execute_result"
    }
   ],
   "source": [
    "# checing the correlation between car cancellation and the mode of booking \n",
    "pd.pivot_table(df,values='Car_Cancellation',index=['online_booking', 'mobile_site_booking',],aggfunc=np.count_nonzero)"
   ]
  },
  {
   "cell_type": "code",
   "execution_count": null,
   "id": "2af322d6",
   "metadata": {},
   "outputs": [],
   "source": []
  },
  {
   "cell_type": "code",
   "execution_count": 8,
   "id": "d814be16",
   "metadata": {},
   "outputs": [
    {
     "data": {
      "text/html": [
       "<div>\n",
       "<style scoped>\n",
       "    .dataframe tbody tr th:only-of-type {\n",
       "        vertical-align: middle;\n",
       "    }\n",
       "\n",
       "    .dataframe tbody tr th {\n",
       "        vertical-align: top;\n",
       "    }\n",
       "\n",
       "    .dataframe thead th {\n",
       "        text-align: right;\n",
       "    }\n",
       "</style>\n",
       "<table border=\"1\" class=\"dataframe\">\n",
       "  <thead>\n",
       "    <tr style=\"text-align: right;\">\n",
       "      <th></th>\n",
       "      <th>vehicle_model_id</th>\n",
       "      <th>package_id</th>\n",
       "      <th>travel_type_id</th>\n",
       "      <th>from_area_id</th>\n",
       "      <th>to_area_id</th>\n",
       "      <th>from_city_id</th>\n",
       "      <th>to_city_id</th>\n",
       "      <th>from_date</th>\n",
       "      <th>online_booking</th>\n",
       "      <th>mobile_site_booking</th>\n",
       "      <th>booking_created</th>\n",
       "      <th>Car_Cancellation</th>\n",
       "    </tr>\n",
       "  </thead>\n",
       "  <tbody>\n",
       "    <tr>\n",
       "      <th>0</th>\n",
       "      <td>28</td>\n",
       "      <td>0.0</td>\n",
       "      <td>2</td>\n",
       "      <td>83.0</td>\n",
       "      <td>448.0</td>\n",
       "      <td>0.0</td>\n",
       "      <td>0.0</td>\n",
       "      <td>01-01-2013 02:00</td>\n",
       "      <td>0</td>\n",
       "      <td>0</td>\n",
       "      <td>01-01-2013 01:39</td>\n",
       "      <td>0</td>\n",
       "    </tr>\n",
       "    <tr>\n",
       "      <th>1</th>\n",
       "      <td>12</td>\n",
       "      <td>0.0</td>\n",
       "      <td>2</td>\n",
       "      <td>1010.0</td>\n",
       "      <td>540.0</td>\n",
       "      <td>0.0</td>\n",
       "      <td>0.0</td>\n",
       "      <td>01-01-2013 09:00</td>\n",
       "      <td>0</td>\n",
       "      <td>0</td>\n",
       "      <td>01-01-2013 02:25</td>\n",
       "      <td>0</td>\n",
       "    </tr>\n",
       "    <tr>\n",
       "      <th>2</th>\n",
       "      <td>12</td>\n",
       "      <td>0.0</td>\n",
       "      <td>2</td>\n",
       "      <td>1301.0</td>\n",
       "      <td>1034.0</td>\n",
       "      <td>0.0</td>\n",
       "      <td>0.0</td>\n",
       "      <td>01-01-2013 03:30</td>\n",
       "      <td>0</td>\n",
       "      <td>0</td>\n",
       "      <td>01-01-2013 03:08</td>\n",
       "      <td>0</td>\n",
       "    </tr>\n",
       "    <tr>\n",
       "      <th>3</th>\n",
       "      <td>12</td>\n",
       "      <td>0.0</td>\n",
       "      <td>2</td>\n",
       "      <td>768.0</td>\n",
       "      <td>398.0</td>\n",
       "      <td>0.0</td>\n",
       "      <td>0.0</td>\n",
       "      <td>01-01-2013 05:45</td>\n",
       "      <td>0</td>\n",
       "      <td>0</td>\n",
       "      <td>01-01-2013 04:39</td>\n",
       "      <td>0</td>\n",
       "    </tr>\n",
       "    <tr>\n",
       "      <th>4</th>\n",
       "      <td>12</td>\n",
       "      <td>0.0</td>\n",
       "      <td>2</td>\n",
       "      <td>1365.0</td>\n",
       "      <td>849.0</td>\n",
       "      <td>0.0</td>\n",
       "      <td>0.0</td>\n",
       "      <td>01-01-2013 09:00</td>\n",
       "      <td>0</td>\n",
       "      <td>0</td>\n",
       "      <td>01-01-2013 07:53</td>\n",
       "      <td>0</td>\n",
       "    </tr>\n",
       "    <tr>\n",
       "      <th>...</th>\n",
       "      <td>...</td>\n",
       "      <td>...</td>\n",
       "      <td>...</td>\n",
       "      <td>...</td>\n",
       "      <td>...</td>\n",
       "      <td>...</td>\n",
       "      <td>...</td>\n",
       "      <td>...</td>\n",
       "      <td>...</td>\n",
       "      <td>...</td>\n",
       "      <td>...</td>\n",
       "      <td>...</td>\n",
       "    </tr>\n",
       "    <tr>\n",
       "      <th>43426</th>\n",
       "      <td>12</td>\n",
       "      <td>0.0</td>\n",
       "      <td>2</td>\n",
       "      <td>1147.0</td>\n",
       "      <td>452.0</td>\n",
       "      <td>15.0</td>\n",
       "      <td>0.0</td>\n",
       "      <td>11/24/2013 18:00</td>\n",
       "      <td>1</td>\n",
       "      <td>0</td>\n",
       "      <td>11/24/2013 14:25</td>\n",
       "      <td>0</td>\n",
       "    </tr>\n",
       "    <tr>\n",
       "      <th>43427</th>\n",
       "      <td>12</td>\n",
       "      <td>0.0</td>\n",
       "      <td>2</td>\n",
       "      <td>393.0</td>\n",
       "      <td>466.0</td>\n",
       "      <td>15.0</td>\n",
       "      <td>0.0</td>\n",
       "      <td>11/26/2013 1:00</td>\n",
       "      <td>1</td>\n",
       "      <td>0</td>\n",
       "      <td>11/24/2013 14:30</td>\n",
       "      <td>0</td>\n",
       "    </tr>\n",
       "    <tr>\n",
       "      <th>43428</th>\n",
       "      <td>12</td>\n",
       "      <td>1.0</td>\n",
       "      <td>3</td>\n",
       "      <td>974.0</td>\n",
       "      <td>0.0</td>\n",
       "      <td>15.0</td>\n",
       "      <td>0.0</td>\n",
       "      <td>11/24/2013 18:30</td>\n",
       "      <td>0</td>\n",
       "      <td>0</td>\n",
       "      <td>11/24/2013 14:35</td>\n",
       "      <td>0</td>\n",
       "    </tr>\n",
       "    <tr>\n",
       "      <th>43429</th>\n",
       "      <td>87</td>\n",
       "      <td>0.0</td>\n",
       "      <td>2</td>\n",
       "      <td>1263.0</td>\n",
       "      <td>542.0</td>\n",
       "      <td>15.0</td>\n",
       "      <td>0.0</td>\n",
       "      <td>11/24/2013 16:00</td>\n",
       "      <td>0</td>\n",
       "      <td>0</td>\n",
       "      <td>11/24/2013 14:43</td>\n",
       "      <td>0</td>\n",
       "    </tr>\n",
       "    <tr>\n",
       "      <th>43430</th>\n",
       "      <td>12</td>\n",
       "      <td>0.0</td>\n",
       "      <td>2</td>\n",
       "      <td>689.0</td>\n",
       "      <td>393.0</td>\n",
       "      <td>15.0</td>\n",
       "      <td>0.0</td>\n",
       "      <td>11/25/2013 5:00</td>\n",
       "      <td>0</td>\n",
       "      <td>1</td>\n",
       "      <td>11/24/2013 14:50</td>\n",
       "      <td>0</td>\n",
       "    </tr>\n",
       "  </tbody>\n",
       "</table>\n",
       "<p>43431 rows × 12 columns</p>\n",
       "</div>"
      ],
      "text/plain": [
       "       vehicle_model_id  package_id  travel_type_id  from_area_id  to_area_id  \\\n",
       "0                    28         0.0               2          83.0       448.0   \n",
       "1                    12         0.0               2        1010.0       540.0   \n",
       "2                    12         0.0               2        1301.0      1034.0   \n",
       "3                    12         0.0               2         768.0       398.0   \n",
       "4                    12         0.0               2        1365.0       849.0   \n",
       "...                 ...         ...             ...           ...         ...   \n",
       "43426                12         0.0               2        1147.0       452.0   \n",
       "43427                12         0.0               2         393.0       466.0   \n",
       "43428                12         1.0               3         974.0         0.0   \n",
       "43429                87         0.0               2        1263.0       542.0   \n",
       "43430                12         0.0               2         689.0       393.0   \n",
       "\n",
       "       from_city_id  to_city_id         from_date  online_booking  \\\n",
       "0               0.0         0.0  01-01-2013 02:00               0   \n",
       "1               0.0         0.0  01-01-2013 09:00               0   \n",
       "2               0.0         0.0  01-01-2013 03:30               0   \n",
       "3               0.0         0.0  01-01-2013 05:45               0   \n",
       "4               0.0         0.0  01-01-2013 09:00               0   \n",
       "...             ...         ...               ...             ...   \n",
       "43426          15.0         0.0  11/24/2013 18:00               1   \n",
       "43427          15.0         0.0   11/26/2013 1:00               1   \n",
       "43428          15.0         0.0  11/24/2013 18:30               0   \n",
       "43429          15.0         0.0  11/24/2013 16:00               0   \n",
       "43430          15.0         0.0   11/25/2013 5:00               0   \n",
       "\n",
       "       mobile_site_booking   booking_created  Car_Cancellation  \n",
       "0                        0  01-01-2013 01:39                 0  \n",
       "1                        0  01-01-2013 02:25                 0  \n",
       "2                        0  01-01-2013 03:08                 0  \n",
       "3                        0  01-01-2013 04:39                 0  \n",
       "4                        0  01-01-2013 07:53                 0  \n",
       "...                    ...               ...               ...  \n",
       "43426                    0  11/24/2013 14:25                 0  \n",
       "43427                    0  11/24/2013 14:30                 0  \n",
       "43428                    0  11/24/2013 14:35                 0  \n",
       "43429                    0  11/24/2013 14:43                 0  \n",
       "43430                    1  11/24/2013 14:50                 0  \n",
       "\n",
       "[43431 rows x 12 columns]"
      ]
     },
     "execution_count": 8,
     "metadata": {},
     "output_type": "execute_result"
    }
   ],
   "source": [
    "# df.drop(['booking_weekday','booking_month','from_month','from_weekday','booking_created']\n",
    "df\n"
   ]
  },
  {
   "cell_type": "code",
   "execution_count": 9,
   "id": "b556b54f",
   "metadata": {},
   "outputs": [
    {
     "data": {
      "text/plain": [
       "(0, 0)"
      ]
     },
     "execution_count": 9,
     "metadata": {},
     "output_type": "execute_result"
    }
   ],
   "source": [
    "# Reapply the function to standardize the date formats\n",
    "def standardize_date_format(date_str):\n",
    "    try:\n",
    "        return pd.to_datetime(date_str, format='%d-%m-%Y %H:%M')\n",
    "    except ValueError:\n",
    "        try:\n",
    "            return pd.to_datetime(date_str)\n",
    "        except ValueError:\n",
    "            return pd.NaT\n",
    "\n",
    "# Apply the function to standardize the date formats\n",
    "df['from_date'] = df['from_date'].apply(standardize_date_format)\n",
    "df['booking_created'] = df['booking_created'].apply(standardize_date_format)\n",
    "\n",
    "# Step 3: Check for any remaining null values after conversion\n",
    "null_from_date_after = df['from_date'].isnull().sum()\n",
    "null_booking_created_after = df['booking_created'].isnull().sum()\n",
    "\n",
    "# Display the count of null values after conversion\n",
    "null_from_date_after, null_booking_created_after\n"
   ]
  },
  {
   "cell_type": "code",
   "execution_count": 10,
   "id": "a25467b5",
   "metadata": {},
   "outputs": [],
   "source": [
    "df.booking_created=pd.to_datetime(df.booking_created,errors='coerce')\n",
    "df['booking_created_weekday']=df.booking_created.dt.weekday\n",
    "df['booking_created_month']=df.booking_created.dt.month\n",
    "df['from_date_weekday']=df.from_date.dt.weekday\n",
    "df['from_date_month']=df.from_date.dt.month\n",
    "df.drop(['booking_created','from_date'],axis=1,inplace=True)"
   ]
  },
  {
   "cell_type": "markdown",
   "id": "1eb81c41",
   "metadata": {},
   "source": [
    "# checking for outliers"
   ]
  },
  {
   "cell_type": "code",
   "execution_count": 1,
   "id": "17ef8d19",
   "metadata": {
    "scrolled": true
   },
   "outputs": [
    {
     "ename": "NameError",
     "evalue": "name 'df' is not defined",
     "output_type": "error",
     "traceback": [
      "\u001b[1;31m---------------------------------------------------------------------------\u001b[0m",
      "\u001b[1;31mNameError\u001b[0m                                 Traceback (most recent call last)",
      "Cell \u001b[1;32mIn[1], line 1\u001b[0m\n\u001b[1;32m----> 1\u001b[0m df\u001b[38;5;241m.\u001b[39mtail(\u001b[38;5;241m10\u001b[39m)\n",
      "\u001b[1;31mNameError\u001b[0m: name 'df' is not defined"
     ]
    }
   ],
   "source": [
    "df.tail(50)"
   ]
  },
  {
   "cell_type": "code",
   "execution_count": 12,
   "id": "bf6d05b6",
   "metadata": {},
   "outputs": [
    {
     "data": {
      "text/plain": [
       "(array([ 0,  1,  2,  3,  4,  5,  6,  7,  8,  9, 10, 11, 12, 13]),\n",
       " [Text(0, 0, 'vehicle_model_id'),\n",
       "  Text(1, 0, 'package_id'),\n",
       "  Text(2, 0, 'travel_type_id'),\n",
       "  Text(3, 0, 'from_area_id'),\n",
       "  Text(4, 0, 'to_area_id'),\n",
       "  Text(5, 0, 'from_city_id'),\n",
       "  Text(6, 0, 'to_city_id'),\n",
       "  Text(7, 0, 'online_booking'),\n",
       "  Text(8, 0, 'mobile_site_booking'),\n",
       "  Text(9, 0, 'Car_Cancellation'),\n",
       "  Text(10, 0, 'booking_created_weekday'),\n",
       "  Text(11, 0, 'booking_created_month'),\n",
       "  Text(12, 0, 'from_date_weekday'),\n",
       "  Text(13, 0, 'from_date_month')])"
      ]
     },
     "execution_count": 12,
     "metadata": {},
     "output_type": "execute_result"
    },
    {
     "data": {
      "image/png": "[encoded data removed]",
      "text/plain": [
       "<Figure size 1500x1000 with 1 Axes>"
      ]
     },
     "metadata": {},
     "output_type": "display_data"
    }
   ],
   "source": [
    "import seaborn as sns \n",
    "plt.figure(figsize=(15,10))\n",
    "sns.boxplot(df)\n",
    "plt.xticks(rotation=90)"
   ]
  },
  {
   "cell_type": "markdown",
   "id": "546dde85",
   "metadata": {},
   "source": [
    "# Splitting the data "
   ]
  },
  {
   "cell_type": "code",
   "execution_count": 36,
   "id": "ea15c46e",
   "metadata": {},
   "outputs": [],
   "source": [
    "# dividing the features class and target class \n",
    "x=df.iloc[:,df.columns!='Car_Cancellation']\n",
    "y=df.iloc[:,9:10]\n",
    "# Splitting the data into training and testing sets using Train test split function \n",
    "from sklearn.model_selection import train_test_split\n",
    "xTrain,xTest,yTrain,yTest=train_test_split(x,y,train_size=0.7,random_state=23)"
   ]
  },
  {
   "cell_type": "markdown",
   "id": "56429b8f",
   "metadata": {},
   "source": [
    "# LazyPredict"
   ]
  },
  {
   "cell_type": "code",
   "execution_count": 41,
   "id": "d6171007",
   "metadata": {},
   "outputs": [
    {
     "name": "stderr",
     "output_type": "stream",
     "text": [
      "  3%|▎         | 1/29 [00:01<00:32,  1.17s/it]"
     ]
    },
    {
     "name": "stdout",
     "output_type": "stream",
     "text": [
      "{'Model': 'AdaBoostClassifier', 'Accuracy': 0.9267075978511128, 'Balanced Accuracy': 0.502664574710797, 'ROC AUC': 0.5026645747107968, 'F1 Score': 0.8927853280506916, 'Time taken': 1.173893690109253}\n"
     ]
    },
    {
     "name": "stderr",
     "output_type": "stream",
     "text": [
      " 10%|█         | 3/29 [00:02<00:18,  1.38it/s]"
     ]
    },
    {
     "name": "stdout",
     "output_type": "stream",
     "text": [
      "{'Model': 'BaggingClassifier', 'Accuracy': 0.923561013046815, 'Balanced Accuracy': 0.5854417525398676, 'ROC AUC': 0.5854417525398676, 'F1 Score': 0.9091230166186399, 'Time taken': 1.2708415985107422}\n",
      "{'Model': 'BernoulliNB', 'Accuracy': 0.927168073676132, 'Balanced Accuracy': 0.5, 'ROC AUC': 0.5, 'F1 Score': 0.8921283499726296, 'Time taken': 0.11682963371276855}\n"
     ]
    },
    {
     "name": "stderr",
     "output_type": "stream",
     "text": [
      "\r\n",
      " 14%|█▍        | 4/29 [00:03<00:15,  1.58it/s]"
     ]
    },
    {
     "name": "stdout",
     "output_type": "stream",
     "text": [
      "{'Model': 'CalibratedClassifierCV', 'Accuracy': 0.927168073676132, 'Balanced Accuracy': 0.5, 'ROC AUC': 0.5, 'F1 Score': 0.8921283499726296, 'Time taken': 0.4976933002471924}\n"
     ]
    },
    {
     "name": "stderr",
     "output_type": "stream",
     "text": [
      "\r\n",
      " 21%|██        | 6/29 [00:03<00:08,  2.68it/s]"
     ]
    },
    {
     "name": "stdout",
     "output_type": "stream",
     "text": [
      "{'Model': 'DecisionTreeClassifier', 'Accuracy': 0.8905602455871067, 'Balanced Accuracy': 0.6176499705317173, 'ROC AUC': 0.6176499705317174, 'F1 Score': 0.892928694471261, 'Time taken': 0.22687840461730957}\n",
      "{'Model': 'DummyClassifier', 'Accuracy': 0.927168073676132, 'Balanced Accuracy': 0.5, 'ROC AUC': 0.5, 'F1 Score': 0.8921283499726296, 'Time taken': 0.09999370574951172}\n"
     ]
    },
    {
     "name": "stderr",
     "output_type": "stream",
     "text": [
      "\r\n",
      " 28%|██▊       | 8/29 [00:03<00:05,  3.83it/s]"
     ]
    },
    {
     "name": "stdout",
     "output_type": "stream",
     "text": [
      "{'Model': 'ExtraTreeClassifier', 'Accuracy': 0.8993860322333077, 'Balanced Accuracy': 0.6180401625173388, 'ROC AUC': 0.6180401625173388, 'F1 Score': 0.8984117108515219, 'Time taken': 0.1255650520324707}\n"
     ]
    },
    {
     "name": "stderr",
     "output_type": "stream",
     "text": [
      "\r\n",
      " 31%|███       | 9/29 [00:07<00:21,  1.10s/it]"
     ]
    },
    {
     "name": "stdout",
     "output_type": "stream",
     "text": [
      "{'Model': 'ExtraTreesClassifier', 'Accuracy': 0.9226400613967767, 'Balanced Accuracy': 0.5956257328365462, 'ROC AUC': 0.5956257328365462, 'F1 Score': 0.9100893779548654, 'Time taken': 3.8040623664855957}\n",
      "{'Model': 'GaussianNB', 'Accuracy': 0.8620107444359171, 'Balanced Accuracy': 0.5949716477353557, 'ROC AUC': 0.5949716477353557, 'F1 Score': 0.8736313237019437, 'Time taken': 0.09514570236206055}\n"
     ]
    },
    {
     "name": "stderr",
     "output_type": "stream",
     "text": [
      "\r\n",
      " 38%|███▊      | 11/29 [00:12<00:30,  1.71s/it]"
     ]
    },
    {
     "name": "stdout",
     "output_type": "stream",
     "text": [
      "{'Model': 'KNeighborsClassifier', 'Accuracy': 0.9204144282425173, 'Balanced Accuracy': 0.5570433033295016, 'ROC AUC': 0.5570433033295016, 'F1 Score': 0.9025043508611218, 'Time taken': 5.142075538635254}\n"
     ]
    },
    {
     "name": "stderr",
     "output_type": "stream",
     "text": [
      " 48%|████▊     | 14/29 [03:19<07:09, 28.63s/it]"
     ]
    },
    {
     "name": "stdout",
     "output_type": "stream",
     "text": [
      "{'Model': 'LinearDiscriminantAnalysis', 'Accuracy': 0.927168073676132, 'Balanced Accuracy': 0.5, 'ROC AUC': 0.5, 'F1 Score': 0.8921283499726296, 'Time taken': 0.4438307285308838}\n"
     ]
    },
    {
     "name": "stderr",
     "output_type": "stream",
     "text": [
      " 55%|█████▌    | 16/29 [03:24<03:30, 16.19s/it]"
     ]
    },
    {
     "name": "stdout",
     "output_type": "stream",
     "text": [
      "{'Model': 'LinearSVC', 'Accuracy': 0.927168073676132, 'Balanced Accuracy': 0.5, 'ROC AUC': 0.5, 'F1 Score': 0.8921283499726296, 'Time taken': 5.117463111877441}\n",
      "{'Model': 'LogisticRegression', 'Accuracy': 0.927168073676132, 'Balanced Accuracy': 0.5, 'ROC AUC': 0.5, 'F1 Score': 0.8921283499726296, 'Time taken': 0.18827438354492188}\n"
     ]
    },
    {
     "name": "stderr",
     "output_type": "stream",
     "text": [
      " 66%|██████▌   | 19/29 [03:24<01:04,  6.47s/it]"
     ]
    },
    {
     "name": "stdout",
     "output_type": "stream",
     "text": [
      "{'Model': 'NearestCentroid', 'Accuracy': 0.6374520337682271, 'Balanced Accuracy': 0.6413640661746767, 'ROC AUC': 0.6413640661746767, 'F1 Score': 0.7243759193131226, 'Time taken': 0.10350966453552246}\n",
      "{'Model': 'PassiveAggressiveClassifier', 'Accuracy': 0.8642363775901765, 'Balanced Accuracy': 0.48548173555232077, 'ROC AUC': 0.4854817355523207, 'F1 Score': 0.8625748387193338, 'Time taken': 0.11935615539550781}\n"
     ]
    },
    {
     "name": "stderr",
     "output_type": "stream",
     "text": [
      " 72%|███████▏  | 21/29 [03:25<00:29,  3.69s/it]"
     ]
    },
    {
     "name": "stdout",
     "output_type": "stream",
     "text": [
      "{'Model': 'Perceptron', 'Accuracy': 0.9038372985418266, 'Balanced Accuracy': 0.48936019242784196, 'ROC AUC': 0.48936019242784196, 'F1 Score': 0.8807838237219653, 'Time taken': 0.10544705390930176}\n",
      "{'Model': 'QuadraticDiscriminantAnalysis', 'Accuracy': 0.869071373752878, 'Balanced Accuracy': 0.5861567192786938, 'ROC AUC': 0.586156719278694, 'F1 Score': 0.8769991285833141, 'Time taken': 0.11483049392700195}\n"
     ]
    },
    {
     "name": "stderr",
     "output_type": "stream",
     "text": [
      " 79%|███████▉  | 23/29 [03:29<00:17,  2.84s/it]"
     ]
    },
    {
     "name": "stdout",
     "output_type": "stream",
     "text": [
      "{'Model': 'RandomForestClassifier', 'Accuracy': 0.9274750575594781, 'Balanced Accuracy': 0.5860960556984994, 'ROC AUC': 0.5860960556984994, 'F1 Score': 0.9116307990808445, 'Time taken': 4.349426507949829}\n",
      "{'Model': 'RidgeClassifier', 'Accuracy': 0.927168073676132, 'Balanced Accuracy': 0.5, 'ROC AUC': 0.5, 'F1 Score': 0.8921283499726296, 'Time taken': 0.15873289108276367}\n"
     ]
    },
    {
     "name": "stderr",
     "output_type": "stream",
     "text": [
      " 86%|████████▌ | 25/29 [03:29<00:06,  1.54s/it]"
     ]
    },
    {
     "name": "stdout",
     "output_type": "stream",
     "text": [
      "{'Model': 'RidgeClassifierCV', 'Accuracy': 0.927168073676132, 'Balanced Accuracy': 0.5, 'ROC AUC': 0.5, 'F1 Score': 0.8921283499726296, 'Time taken': 0.16767668724060059}\n",
      "{'Model': 'SGDClassifier', 'Accuracy': 0.927168073676132, 'Balanced Accuracy': 0.5, 'ROC AUC': 0.5, 'F1 Score': 0.8921283499726296, 'Time taken': 0.19205856323242188}\n"
     ]
    },
    {
     "name": "stderr",
     "output_type": "stream",
     "text": [
      "\r\n",
      " 90%|████████▉ | 26/29 [04:30<00:56, 18.84s/it]"
     ]
    },
    {
     "name": "stdout",
     "output_type": "stream",
     "text": [
      "{'Model': 'SVC', 'Accuracy': 0.927168073676132, 'Balanced Accuracy': 0.5, 'ROC AUC': 0.5, 'F1 Score': 0.8921283499726296, 'Time taken': 60.84528303146362}\n"
     ]
    },
    {
     "name": "stderr",
     "output_type": "stream",
     "text": [
      "\r\n",
      " 97%|█████████▋| 28/29 [04:31<00:10, 10.38s/it]"
     ]
    },
    {
     "name": "stdout",
     "output_type": "stream",
     "text": [
      "{'Model': 'XGBClassifier', 'Accuracy': 0.9306983883346124, 'Balanced Accuracy': 0.6023988150235298, 'ROC AUC': 0.6023988150235297, 'F1 Score': 0.916225690989482, 'Time taken': 0.45526909828186035}\n",
      "[LightGBM] [Info] Number of positive: 2183, number of negative: 28218\n",
      "[LightGBM] [Info] Auto-choosing row-wise multi-threading, the overhead of testing was 0.002036 seconds.\n",
      "You can set `force_row_wise=true` to remove the overhead.\n",
      "And if memory is not enough, you can set `force_col_wise=true`.\n",
      "[LightGBM] [Info] Total Bins 647\n",
      "[LightGBM] [Info] Number of data points in the train set: 30401, number of used features: 13\n",
      "[LightGBM] [Info] [binary:BoostFromScore]: pavg=0.071807 -> initscore=-2.559260\n",
      "[LightGBM] [Info] Start training from score -2.559260\n"
     ]
    },
    {
     "name": "stderr",
     "output_type": "stream",
     "text": [
      "100%|██████████| 29/29 [04:31<00:00,  9.37s/it]"
     ]
    },
    {
     "name": "stdout",
     "output_type": "stream",
     "text": [
      "{'Model': 'LGBMClassifier', 'Accuracy': 0.9333844973138911, 'Balanced Accuracy': 0.5795732162312539, 'ROC AUC': 0.5795732162312539, 'F1 Score': 0.9141668403359703, 'Time taken': 0.38718676567077637}\n",
      "                               Accuracy  Balanced Accuracy  ROC AUC  F1 Score  \\\n",
      "Model                                                                           \n",
      "NearestCentroid                    0.64               0.64     0.64      0.72   \n",
      "ExtraTreeClassifier                0.90               0.62     0.62      0.90   \n",
      "DecisionTreeClassifier             0.89               0.62     0.62      0.89   \n",
      "XGBClassifier                      0.93               0.60     0.60      0.92   \n",
      "ExtraTreesClassifier               0.92               0.60     0.60      0.91   \n",
      "GaussianNB                         0.86               0.59     0.59      0.87   \n",
      "QuadraticDiscriminantAnalysis      0.87               0.59     0.59      0.88   \n",
      "RandomForestClassifier             0.93               0.59     0.59      0.91   \n",
      "BaggingClassifier                  0.92               0.59     0.59      0.91   \n",
      "LGBMClassifier                     0.93               0.58     0.58      0.91   \n",
      "KNeighborsClassifier               0.92               0.56     0.56      0.90   \n",
      "AdaBoostClassifier                 0.93               0.50     0.50      0.89   \n",
      "LinearSVC                          0.93               0.50     0.50      0.89   \n",
      "LinearDiscriminantAnalysis         0.93               0.50     0.50      0.89   \n",
      "DummyClassifier                    0.93               0.50     0.50      0.89   \n",
      "CalibratedClassifierCV             0.93               0.50     0.50      0.89   \n",
      "RidgeClassifier                    0.93               0.50     0.50      0.89   \n",
      "RidgeClassifierCV                  0.93               0.50     0.50      0.89   \n",
      "SGDClassifier                      0.93               0.50     0.50      0.89   \n",
      "SVC                                0.93               0.50     0.50      0.89   \n",
      "BernoulliNB                        0.93               0.50     0.50      0.89   \n",
      "LogisticRegression                 0.93               0.50     0.50      0.89   \n",
      "Perceptron                         0.90               0.49     0.49      0.88   \n",
      "PassiveAggressiveClassifier        0.86               0.49     0.49      0.86   \n",
      "\n",
      "                               Time Taken  \n",
      "Model                                      \n",
      "NearestCentroid                      0.10  \n",
      "ExtraTreeClassifier                  0.13  \n",
      "DecisionTreeClassifier               0.23  \n",
      "XGBClassifier                        0.46  \n",
      "ExtraTreesClassifier                 3.80  \n",
      "GaussianNB                           0.10  \n",
      "QuadraticDiscriminantAnalysis        0.11  \n",
      "RandomForestClassifier               4.35  \n",
      "BaggingClassifier                    1.27  \n",
      "LGBMClassifier                       0.39  \n",
      "KNeighborsClassifier                 5.14  \n",
      "AdaBoostClassifier                   1.17  \n",
      "LinearSVC                            5.12  \n",
      "LinearDiscriminantAnalysis           0.44  \n",
      "DummyClassifier                      0.10  \n",
      "CalibratedClassifierCV               0.50  \n",
      "RidgeClassifier                      0.16  \n",
      "RidgeClassifierCV                    0.17  \n",
      "SGDClassifier                        0.19  \n",
      "SVC                                 60.85  \n",
      "BernoulliNB                          0.12  \n",
      "LogisticRegression                   0.19  \n",
      "Perceptron                           0.11  \n",
      "PassiveAggressiveClassifier          0.12  \n"
     ]
    },
    {
     "name": "stderr",
     "output_type": "stream",
     "text": [
      "\n"
     ]
    }
   ],
   "source": [
    "# using lazypredict to find the best classification model\n",
    "from lazypredict.Supervised import LazyClassifier\n",
    "lazy=LazyClassifier(verbose=1,ignore_warnings=True,custom_metric=None)\n",
    "models,predictions=lazy.fit(xTrain,xTest,yTrain,yTest)\n",
    "print(models)\n"
   ]
  },
  {
   "cell_type": "markdown",
   "id": "9d146944",
   "metadata": {},
   "source": [
    "# RandomForestClassifier"
   ]
  },
  {
   "cell_type": "code",
   "execution_count": 37,
   "id": "2356a68b",
   "metadata": {},
   "outputs": [],
   "source": [
    "# using random forest classifier considering the dataset\n",
    "from sklearn.ensemble import RandomForestClassifier\n",
    "randomforest=RandomForestClassifier(random_state=42)\n",
    "randomforest.fit(xTrain,yTrain)\n",
    "yPred=randomforest.predict(xTest)\n"
   ]
  },
  {
   "cell_type": "code",
   "execution_count": 38,
   "id": "fb7b7a77",
   "metadata": {},
   "outputs": [
    {
     "name": "stdout",
     "output_type": "stream",
     "text": [
      "accuracy score 92.75518035303146\n",
      "              precision    recall  f1-score   support\n",
      "\n",
      "           0       0.94      0.99      0.96     12081\n",
      "           1       0.51      0.19      0.27       949\n",
      "\n",
      "    accuracy                           0.93     13030\n",
      "   macro avg       0.72      0.59      0.62     13030\n",
      "weighted avg       0.91      0.93      0.91     13030\n",
      "\n"
     ]
    }
   ],
   "source": [
    "from sklearn.metrics import accuracy_score,classification_report\n",
    "accuracyScore=accuracy_score(yTest,yPred)\n",
    "print('accuracy score',accuracyScore*100)\n",
    "print(classification_report(yTest,yPred))"
   ]
  },
  {
   "cell_type": "code",
   "execution_count": 51,
   "id": "a24d3da3",
   "metadata": {},
   "outputs": [
    {
     "name": "stdout",
     "output_type": "stream",
     "text": [
      "Fitting 3 folds for each of 324 candidates, totalling 972 fits\n",
      "{'max_depth': 20, 'max_features': 'sqrt', 'min_samples_leaf': 2, 'min_samples_split': 5, 'n_estimators': 100}\n",
      "Accuracy: 0.930928626247122\n",
      "              precision    recall  f1-score   support\n",
      "\n",
      "           0       0.94      0.99      0.96     12081\n",
      "           1       0.63      0.12      0.21       949\n",
      "\n",
      "    accuracy                           0.93     13030\n",
      "   macro avg       0.78      0.56      0.59     13030\n",
      "weighted avg       0.91      0.93      0.91     13030\n",
      "\n"
     ]
    }
   ],
   "source": [
    "parameters = {\n",
    "    'n_estimators': [50, 100, 200],\n",
    "    'max_depth': [None, 10, 20, 30],\n",
    "    'min_samples_split': [2, 5, 10],\n",
    "    'min_samples_leaf': [1, 2, 4],\n",
    "    'max_features': ['auto', 'sqrt', 'log2']\n",
    "}\n",
    "gridSearchRandomForestClassifier=GridSearchCV(estimator=randomforest,param_grid=parameters,scoring='accuracy',cv=3,verbose=1,n_jobs=-1)\n",
    "gridSearchRandomForestClassifier.fit(xTrain,yTrain)\n",
    "print(gridSearchRandomForestClassifier.best_params_)\n",
    "\n",
    "best_RandomForestClassifier=gridSearchRandomForestClassifier.best_estimator_\n",
    "yPred_RandomForestClassifier=best_RandomForestClassifier.predict(xTest)\n",
    "\n",
    "print('Accuracy:',accuracy_score(yTest,yPred_RandomForestClassifier))\n",
    "print(classification_report(yTest,yPred_RandomForestClassifier))"
   ]
  },
  {
   "cell_type": "markdown",
   "id": "63b0b846",
   "metadata": {},
   "source": [
    "# DummyClassifier"
   ]
  },
  {
   "cell_type": "code",
   "execution_count": 39,
   "id": "8c8a4dc3",
   "metadata": {},
   "outputs": [
    {
     "name": "stdout",
     "output_type": "stream",
     "text": [
      "Accuracy score dummy 92.7168073676132\n",
      "              precision    recall  f1-score   support\n",
      "\n",
      "           0       0.93      1.00      0.96     12081\n",
      "           1       0.00      0.00      0.00       949\n",
      "\n",
      "    accuracy                           0.93     13030\n",
      "   macro avg       0.46      0.50      0.48     13030\n",
      "weighted avg       0.86      0.93      0.89     13030\n",
      "\n"
     ]
    }
   ],
   "source": [
    "from sklearn.dummy import DummyClassifier\n",
    "dummy_clf = DummyClassifier(strategy=\"most_frequent\")\n",
    "dummy_clf.fit(xTrain,yTrain)\n",
    "yPredDummy=dummy_clf.predict(xTest)\n",
    "accuracy_dummy=accuracy_score(yTest,yPredDummy)\n",
    "print('Accuracy score dummy',accuracy_dummy*100)\n",
    "print(classification_report(yTest,yPredDummy))"
   ]
  },
  {
   "cell_type": "code",
   "execution_count": 53,
   "id": "6d4c45e6",
   "metadata": {},
   "outputs": [
    {
     "name": "stdout",
     "output_type": "stream",
     "text": [
      "Fitting 3 folds for each of 6 candidates, totalling 18 fits\n",
      "{'strategy': 'most_frequent'}\n"
     ]
    }
   ],
   "source": [
    "parameter_values={\n",
    "    'strategy': ['stratified', 'most_frequent', 'prior', 'uniform', {'strategy': 'constant', 'constant': 0}, {'strategy': 'constant', 'constant': 1}]\n",
    "}\n",
    "gridsearch_Dummyclassifier=GridSearchCV(estimator=dummy_clf,param_grid=parameter_values,scoring='accuracy',cv=3,verbose=1,n_jobs=-1)\n",
    "gridsearch_Dummyclassifier.fit(xTrain,yTrain)\n",
    "print(gridsearch_Dummyclassifier.best_params_)"
   ]
  },
  {
   "cell_type": "code",
   "execution_count": 54,
   "id": "e014786d",
   "metadata": {},
   "outputs": [
    {
     "name": "stdout",
     "output_type": "stream",
     "text": [
      "Accuracy: 0.927168073676132\n",
      "              precision    recall  f1-score   support\n",
      "\n",
      "           0       0.93      1.00      0.96     12081\n",
      "           1       0.00      0.00      0.00       949\n",
      "\n",
      "    accuracy                           0.93     13030\n",
      "   macro avg       0.46      0.50      0.48     13030\n",
      "weighted avg       0.86      0.93      0.89     13030\n",
      "\n"
     ]
    }
   ],
   "source": [
    "best_DummyClassifier=gridsearch_Dummyclassifier.best_estimator_\n",
    "yPred_DummyClassifier=best_DummyClassifier.predict(xTest)\n",
    "\n",
    "print('Accuracy:',accuracy_score(yTest,yPred_DummyClassifier))\n",
    "print(classification_report(yTest,yPred_DummyClassifier))\n"
   ]
  },
  {
   "cell_type": "markdown",
   "id": "442c97a3",
   "metadata": {},
   "source": [
    "# XGBoost Classifier"
   ]
  },
  {
   "cell_type": "code",
   "execution_count": 45,
   "id": "619995ee",
   "metadata": {},
   "outputs": [
    {
     "name": "stdout",
     "output_type": "stream",
     "text": [
      "Fitting 3 folds for each of 729 candidates, totalling 2187 fits\n",
      "{'colsample_bytree': 0.6, 'learning_rate': 0.05, 'max_depth': 7, 'min_child_weight': 1, 'n_estimators': 300, 'subsample': 0.6}\n"
     ]
    }
   ],
   "source": [
    "from xgboost import XGBClassifier\n",
    "from sklearn.model_selection import GridSearchCV\n",
    "xgb=XGBClassifier()\n",
    "param_grid = {\n",
    "    'n_estimators': [100, 200, 300],\n",
    "    'learning_rate': [0.01, 0.05, 0.1],\n",
    "    'max_depth': [3, 5, 7],\n",
    "    'min_child_weight': [1, 3, 5],\n",
    "    'subsample': [0.6, 0.8, 1.0],\n",
    "    'colsample_bytree': [0.6, 0.8, 1.0]\n",
    "}\n",
    "gridSearchXGB=GridSearchCV(estimator=xgb, param_grid=param_grid, scoring='accuracy', cv=3, verbose=1, n_jobs=-1)\n",
    "gridSearchXGB.fit(xTrain,yTrain)\n",
    "print(gridSearchXGB.best_params_)"
   ]
  },
  {
   "cell_type": "code",
   "execution_count": 49,
   "id": "16b4ac17",
   "metadata": {},
   "outputs": [
    {
     "name": "stdout",
     "output_type": "stream",
     "text": [
      "Accuracy: 0.9570990023023791\n",
      "              precision    recall  f1-score   support\n",
      "\n",
      "           0       0.96      1.00      0.98     12081\n",
      "           1       0.92      0.45      0.60       949\n",
      "\n",
      "    accuracy                           0.96     13030\n",
      "   macro avg       0.94      0.72      0.79     13030\n",
      "weighted avg       0.96      0.96      0.95     13030\n",
      "\n"
     ]
    }
   ],
   "source": [
    "best_xgb=gridSearchXGB.best_estimator_\n",
    "yPredXGB=best_xgb.predict(xTest)\n",
    "print('Accuracy:',accuracy_score(yTest,yPredXGB))\n",
    "print(classification_report(yTest,yPredXGB))\n"
   ]
  },
  {
   "cell_type": "code",
   "execution_count": null,
   "id": "6aafd1b9",
   "metadata": {},
   "outputs": [],
   "source": [
    "# Based on the classification report after using different classification models based on the lazypredict \n",
    "# and then performing Grid Search Cv for each classification model \n",
    "# to fine tune the hyperparameters \n",
    "# XGBoost classifier came as the best model for the dataset provided with an accuracy of 0.9570990023023791"
   ]
  },
  {
   "cell_type": "markdown",
   "id": "bb4fdf1f",
   "metadata": {},
   "source": [
    "# Prediction with XGBoost classifier "
   ]
  },
  {
   "cell_type": "code",
   "execution_count": null,
   "id": "d9db6a2f",
   "metadata": {},
   "outputs": [],
   "source": [
    "# Compartmentalising the three different travel type id's to predict and check the performace of the XGBoost classifier "
   ]
  },
  {
   "cell_type": "code",
   "execution_count": 82,
   "id": "d15edfdb",
   "metadata": {
    "scrolled": true
   },
   "outputs": [
    {
     "data": {
      "text/html": [
       "<div>\n",
       "<style scoped>\n",
       "    .dataframe tbody tr th:only-of-type {\n",
       "        vertical-align: middle;\n",
       "    }\n",
       "\n",
       "    .dataframe tbody tr th {\n",
       "        vertical-align: top;\n",
       "    }\n",
       "\n",
       "    .dataframe thead th {\n",
       "        text-align: right;\n",
       "    }\n",
       "</style>\n",
       "<table border=\"1\" class=\"dataframe\">\n",
       "  <thead>\n",
       "    <tr style=\"text-align: right;\">\n",
       "      <th></th>\n",
       "      <th>vehicle_model_id</th>\n",
       "      <th>package_id</th>\n",
       "      <th>travel_type_id</th>\n",
       "      <th>from_area_id</th>\n",
       "      <th>to_area_id</th>\n",
       "      <th>from_city_id</th>\n",
       "      <th>to_city_id</th>\n",
       "      <th>online_booking</th>\n",
       "      <th>mobile_site_booking</th>\n",
       "      <th>Car_Cancellation</th>\n",
       "      <th>booking_created_weekday</th>\n",
       "      <th>booking_created_month</th>\n",
       "      <th>from_date_weekday</th>\n",
       "      <th>from_date_month</th>\n",
       "    </tr>\n",
       "  </thead>\n",
       "  <tbody>\n",
       "    <tr>\n",
       "      <th>6</th>\n",
       "      <td>12</td>\n",
       "      <td>0.00</td>\n",
       "      <td>1</td>\n",
       "      <td>571.00</td>\n",
       "      <td>0.00</td>\n",
       "      <td>15.00</td>\n",
       "      <td>108.00</td>\n",
       "      <td>0</td>\n",
       "      <td>0</td>\n",
       "      <td>0</td>\n",
       "      <td>1</td>\n",
       "      <td>1</td>\n",
       "      <td>1</td>\n",
       "      <td>1</td>\n",
       "    </tr>\n",
       "    <tr>\n",
       "      <th>17</th>\n",
       "      <td>24</td>\n",
       "      <td>0.00</td>\n",
       "      <td>1</td>\n",
       "      <td>1383.00</td>\n",
       "      <td>0.00</td>\n",
       "      <td>0.00</td>\n",
       "      <td>32.00</td>\n",
       "      <td>1</td>\n",
       "      <td>0</td>\n",
       "      <td>0</td>\n",
       "      <td>1</td>\n",
       "      <td>1</td>\n",
       "      <td>6</td>\n",
       "      <td>12</td>\n",
       "    </tr>\n",
       "    <tr>\n",
       "      <th>24</th>\n",
       "      <td>54</td>\n",
       "      <td>0.00</td>\n",
       "      <td>1</td>\n",
       "      <td>515.00</td>\n",
       "      <td>0.00</td>\n",
       "      <td>15.00</td>\n",
       "      <td>32.00</td>\n",
       "      <td>0</td>\n",
       "      <td>0</td>\n",
       "      <td>0</td>\n",
       "      <td>1</td>\n",
       "      <td>1</td>\n",
       "      <td>2</td>\n",
       "      <td>5</td>\n",
       "    </tr>\n",
       "    <tr>\n",
       "      <th>158</th>\n",
       "      <td>28</td>\n",
       "      <td>0.00</td>\n",
       "      <td>1</td>\n",
       "      <td>136.00</td>\n",
       "      <td>0.00</td>\n",
       "      <td>1.00</td>\n",
       "      <td>152.00</td>\n",
       "      <td>1</td>\n",
       "      <td>0</td>\n",
       "      <td>0</td>\n",
       "      <td>4</td>\n",
       "      <td>3</td>\n",
       "      <td>0</td>\n",
       "      <td>4</td>\n",
       "    </tr>\n",
       "    <tr>\n",
       "      <th>216</th>\n",
       "      <td>87</td>\n",
       "      <td>0.00</td>\n",
       "      <td>1</td>\n",
       "      <td>1118.00</td>\n",
       "      <td>0.00</td>\n",
       "      <td>0.00</td>\n",
       "      <td>32.00</td>\n",
       "      <td>1</td>\n",
       "      <td>0</td>\n",
       "      <td>0</td>\n",
       "      <td>0</td>\n",
       "      <td>4</td>\n",
       "      <td>5</td>\n",
       "      <td>6</td>\n",
       "    </tr>\n",
       "    <tr>\n",
       "      <th>...</th>\n",
       "      <td>...</td>\n",
       "      <td>...</td>\n",
       "      <td>...</td>\n",
       "      <td>...</td>\n",
       "      <td>...</td>\n",
       "      <td>...</td>\n",
       "      <td>...</td>\n",
       "      <td>...</td>\n",
       "      <td>...</td>\n",
       "      <td>...</td>\n",
       "      <td>...</td>\n",
       "      <td>...</td>\n",
       "      <td>...</td>\n",
       "      <td>...</td>\n",
       "    </tr>\n",
       "    <tr>\n",
       "      <th>43342</th>\n",
       "      <td>12</td>\n",
       "      <td>0.00</td>\n",
       "      <td>1</td>\n",
       "      <td>393.00</td>\n",
       "      <td>0.00</td>\n",
       "      <td>15.00</td>\n",
       "      <td>191.00</td>\n",
       "      <td>1</td>\n",
       "      <td>0</td>\n",
       "      <td>0</td>\n",
       "      <td>5</td>\n",
       "      <td>11</td>\n",
       "      <td>5</td>\n",
       "      <td>11</td>\n",
       "    </tr>\n",
       "    <tr>\n",
       "      <th>43385</th>\n",
       "      <td>87</td>\n",
       "      <td>0.00</td>\n",
       "      <td>1</td>\n",
       "      <td>119.00</td>\n",
       "      <td>0.00</td>\n",
       "      <td>15.00</td>\n",
       "      <td>146.00</td>\n",
       "      <td>1</td>\n",
       "      <td>0</td>\n",
       "      <td>0</td>\n",
       "      <td>5</td>\n",
       "      <td>11</td>\n",
       "      <td>4</td>\n",
       "      <td>11</td>\n",
       "    </tr>\n",
       "    <tr>\n",
       "      <th>43386</th>\n",
       "      <td>12</td>\n",
       "      <td>0.00</td>\n",
       "      <td>1</td>\n",
       "      <td>1281.00</td>\n",
       "      <td>0.00</td>\n",
       "      <td>15.00</td>\n",
       "      <td>32.00</td>\n",
       "      <td>1</td>\n",
       "      <td>0</td>\n",
       "      <td>0</td>\n",
       "      <td>5</td>\n",
       "      <td>11</td>\n",
       "      <td>6</td>\n",
       "      <td>11</td>\n",
       "    </tr>\n",
       "    <tr>\n",
       "      <th>43393</th>\n",
       "      <td>12</td>\n",
       "      <td>0.00</td>\n",
       "      <td>1</td>\n",
       "      <td>393.00</td>\n",
       "      <td>0.00</td>\n",
       "      <td>15.00</td>\n",
       "      <td>116.00</td>\n",
       "      <td>0</td>\n",
       "      <td>0</td>\n",
       "      <td>0</td>\n",
       "      <td>6</td>\n",
       "      <td>11</td>\n",
       "      <td>6</td>\n",
       "      <td>11</td>\n",
       "    </tr>\n",
       "    <tr>\n",
       "      <th>43407</th>\n",
       "      <td>87</td>\n",
       "      <td>0.00</td>\n",
       "      <td>1</td>\n",
       "      <td>1180.00</td>\n",
       "      <td>0.00</td>\n",
       "      <td>15.00</td>\n",
       "      <td>62.00</td>\n",
       "      <td>0</td>\n",
       "      <td>0</td>\n",
       "      <td>0</td>\n",
       "      <td>6</td>\n",
       "      <td>11</td>\n",
       "      <td>1</td>\n",
       "      <td>12</td>\n",
       "    </tr>\n",
       "  </tbody>\n",
       "</table>\n",
       "<p>1589 rows × 14 columns</p>\n",
       "</div>"
      ],
      "text/plain": [
       "       vehicle_model_id  package_id  travel_type_id  from_area_id  to_area_id  \\\n",
       "6                    12        0.00               1        571.00        0.00   \n",
       "17                   24        0.00               1       1383.00        0.00   \n",
       "24                   54        0.00               1        515.00        0.00   \n",
       "158                  28        0.00               1        136.00        0.00   \n",
       "216                  87        0.00               1       1118.00        0.00   \n",
       "...                 ...         ...             ...           ...         ...   \n",
       "43342                12        0.00               1        393.00        0.00   \n",
       "43385                87        0.00               1        119.00        0.00   \n",
       "43386                12        0.00               1       1281.00        0.00   \n",
       "43393                12        0.00               1        393.00        0.00   \n",
       "43407                87        0.00               1       1180.00        0.00   \n",
       "\n",
       "       from_city_id  to_city_id  online_booking  mobile_site_booking  \\\n",
       "6             15.00      108.00               0                    0   \n",
       "17             0.00       32.00               1                    0   \n",
       "24            15.00       32.00               0                    0   \n",
       "158            1.00      152.00               1                    0   \n",
       "216            0.00       32.00               1                    0   \n",
       "...             ...         ...             ...                  ...   \n",
       "43342         15.00      191.00               1                    0   \n",
       "43385         15.00      146.00               1                    0   \n",
       "43386         15.00       32.00               1                    0   \n",
       "43393         15.00      116.00               0                    0   \n",
       "43407         15.00       62.00               0                    0   \n",
       "\n",
       "       Car_Cancellation  booking_created_weekday  booking_created_month  \\\n",
       "6                     0                        1                      1   \n",
       "17                    0                        1                      1   \n",
       "24                    0                        1                      1   \n",
       "158                   0                        4                      3   \n",
       "216                   0                        0                      4   \n",
       "...                 ...                      ...                    ...   \n",
       "43342                 0                        5                     11   \n",
       "43385                 0                        5                     11   \n",
       "43386                 0                        5                     11   \n",
       "43393                 0                        6                     11   \n",
       "43407                 0                        6                     11   \n",
       "\n",
       "       from_date_weekday  from_date_month  \n",
       "6                      1                1  \n",
       "17                     6               12  \n",
       "24                     2                5  \n",
       "158                    0                4  \n",
       "216                    5                6  \n",
       "...                  ...              ...  \n",
       "43342                  5               11  \n",
       "43385                  4               11  \n",
       "43386                  6               11  \n",
       "43393                  6               11  \n",
       "43407                  1               12  \n",
       "\n",
       "[1589 rows x 14 columns]"
      ]
     },
     "execution_count": 82,
     "metadata": {},
     "output_type": "execute_result"
    }
   ],
   "source": [
    "travel_type_id_1_data=df[df.travel_type_id==1]\n",
    "travel_type_id_1_data\n",
    "travel_type_id_2_data=df[df.travel_type_id==2]\n",
    "travel_type_id_2_data\n",
    "travel_type_id_3_data=df[df.travel_type_id==3]\n",
    "travel_type_id_3_data\n",
    "travel_type_id_1_data"
   ]
  },
  {
   "cell_type": "code",
   "execution_count": 63,
   "id": "c26ecec4",
   "metadata": {},
   "outputs": [
    {
     "data": {
      "text/html": [
       "<div>\n",
       "<style scoped>\n",
       "    .dataframe tbody tr th:only-of-type {\n",
       "        vertical-align: middle;\n",
       "    }\n",
       "\n",
       "    .dataframe tbody tr th {\n",
       "        vertical-align: top;\n",
       "    }\n",
       "\n",
       "    .dataframe thead th {\n",
       "        text-align: right;\n",
       "    }\n",
       "</style>\n",
       "<table border=\"1\" class=\"dataframe\">\n",
       "  <thead>\n",
       "    <tr style=\"text-align: right;\">\n",
       "      <th></th>\n",
       "      <th>Car_Cancellation</th>\n",
       "    </tr>\n",
       "    <tr>\n",
       "      <th>travel_type_id</th>\n",
       "      <th></th>\n",
       "    </tr>\n",
       "  </thead>\n",
       "  <tbody>\n",
       "    <tr>\n",
       "      <th>1</th>\n",
       "      <td>21</td>\n",
       "    </tr>\n",
       "    <tr>\n",
       "      <th>2</th>\n",
       "      <td>2775</td>\n",
       "    </tr>\n",
       "    <tr>\n",
       "      <th>3</th>\n",
       "      <td>336</td>\n",
       "    </tr>\n",
       "  </tbody>\n",
       "</table>\n",
       "</div>"
      ],
      "text/plain": [
       "                Car_Cancellation\n",
       "travel_type_id                  \n",
       "1                             21\n",
       "2                           2775\n",
       "3                            336"
      ]
     },
     "execution_count": 63,
     "metadata": {},
     "output_type": "execute_result"
    }
   ],
   "source": [
    "pd.pivot_table(df,values='Car_Cancellation',index='travel_type_id',aggfunc='sum')"
   ]
  },
  {
   "cell_type": "code",
   "execution_count": 99,
   "id": "1f4a90f0",
   "metadata": {},
   "outputs": [],
   "source": [
    "# performing train test split on the travel_type_id_1_data\n",
    "xT1=travel_type_id_1_data.iloc[:,travel_type_id_1_data.columns!='Car_Cancellation']\n",
    "yT1=travel_type_id_1_data.iloc[:,9:10]\n",
    "xTrainT1,xTestT1,yTrainT1,yTestT1=train_test_split(xT1,yT1,train_size=0.3,random_state=42)\n"
   ]
  },
  {
   "cell_type": "code",
   "execution_count": 98,
   "id": "da87bd92",
   "metadata": {},
   "outputs": [],
   "source": [
    "# performing train test split on the travel_type_id_2_data\n",
    "xT2=travel_type_id_2_data.iloc[:,travel_type_id_2_data.columns!='Car_Cancellation']\n",
    "yT2=travel_type_id_2_data.iloc[:,9:10]\n",
    "xTrainT2,xTestT2,yTrainT2,yTestT2=train_test_split(xT2,yT2,train_size=0.3,random_state=42)\n",
    "\n"
   ]
  },
  {
   "cell_type": "code",
   "execution_count": 97,
   "id": "9c7eb189",
   "metadata": {},
   "outputs": [],
   "source": [
    "# performing train test split on the travel_type_id_3_data\n",
    "xT3=travel_type_id_3_data.iloc[:,travel_type_id_3_data.columns!='Car_Cancellation']\n",
    "yT3=travel_type_id_3_data.iloc[:,9:10]\n",
    "xTrainT3,xTestT3,yTrainT3,yTestT3=train_test_split(xT3,yT3,train_size=0.3,random_state=42)\n"
   ]
  },
  {
   "cell_type": "code",
   "execution_count": 100,
   "id": "e87187a3",
   "metadata": {},
   "outputs": [
    {
     "name": "stdout",
     "output_type": "stream",
     "text": [
      "Accuracy:  0.9856244384546271\n",
      "              precision    recall  f1-score   support\n",
      "\n",
      "           0       0.99      1.00      0.99      1097\n",
      "           1       0.00      0.00      0.00        16\n",
      "\n",
      "    accuracy                           0.99      1113\n",
      "   macro avg       0.49      0.50      0.50      1113\n",
      "weighted avg       0.97      0.99      0.98      1113\n",
      "\n"
     ]
    }
   ],
   "source": [
    "# predicting and checking the performance with travel type id 1 \n",
    "yPred_test_XGB_T1=best_xgb.predict(xTestT1)\n",
    "\n",
    "print('Accuracy: ',accuracy_score(yTestT1,yPred_test_XGB_T1))\n",
    "print(classification_report(yTestT1,yPred_test_XGB_T1))"
   ]
  },
  {
   "cell_type": "code",
   "execution_count": 101,
   "id": "c044a505",
   "metadata": {},
   "outputs": [
    {
     "name": "stdout",
     "output_type": "stream",
     "text": [
      "Accuracy:  0.9308477400541554\n",
      "              precision    recall  f1-score   support\n",
      "\n",
      "           0       0.94      0.99      0.96     22048\n",
      "           1       0.70      0.26      0.38      1957\n",
      "\n",
      "    accuracy                           0.93     24005\n",
      "   macro avg       0.82      0.63      0.67     24005\n",
      "weighted avg       0.92      0.93      0.92     24005\n",
      "\n"
     ]
    }
   ],
   "source": [
    "# predicting and checking the performance with travel type id 2\n",
    "yPred_test_XGB_T2=best_xgb.predict(xTestT2)\n",
    "\n",
    "print('Accuracy: ',accuracy_score(yTestT2,yPred_test_XGB_T2))\n",
    "print(classification_report(yTestT2,yPred_test_XGB_T2))"
   ]
  },
  {
   "cell_type": "code",
   "execution_count": 102,
   "id": "ad31adfe",
   "metadata": {},
   "outputs": [
    {
     "name": "stdout",
     "output_type": "stream",
     "text": [
      "Accuracy:  0.9595080416272469\n",
      "              precision    recall  f1-score   support\n",
      "\n",
      "           0       0.96      1.00      0.98      5043\n",
      "           1       0.72      0.19      0.30       242\n",
      "\n",
      "    accuracy                           0.96      5285\n",
      "   macro avg       0.84      0.59      0.64      5285\n",
      "weighted avg       0.95      0.96      0.95      5285\n",
      "\n"
     ]
    }
   ],
   "source": [
    "# predicting and checking the performance with travel type id 3 \n",
    "yPred_test_XGB_T3=best_xgb.predict(xTestT3)\n",
    "\n",
    "print('Accuracy: ',accuracy_score(yTestT3,yPred_test_XGB_T3))\n",
    "print(classification_report(yTestT3,yPred_test_XGB_T3))"
   ]
  },
  {
   "cell_type": "code",
   "execution_count": 107,
   "id": "979c1eae",
   "metadata": {},
   "outputs": [],
   "source": [
    "# By applying various testing data on our XGBoost model with hyperparamter tuning we are getting a mean accuracy of 95.5\n"
   ]
  },
  {
   "cell_type": "markdown",
   "id": "ca04a732",
   "metadata": {},
   "source": [
    "# visualizing the performance of the model "
   ]
  },
  {
   "cell_type": "code",
   "execution_count": 109,
   "id": "821b25fc",
   "metadata": {},
   "outputs": [],
   "source": [
    "from sklearn.metrics import ConfusionMatrixDisplay,RocCurveDisplay,PrecisionRecallDisplay\n"
   ]
  },
  {
   "cell_type": "markdown",
   "id": "e5c6fb8d",
   "metadata": {},
   "source": [
    "# Confusion Matrix "
   ]
  },
  {
   "cell_type": "code",
   "execution_count": 110,
   "id": "ac013ad9",
   "metadata": {},
   "outputs": [
    {
     "data": {
      "image/png": "[encoded data removed]",
      "text/plain": [
       "<Figure size 640x480 with 2 Axes>"
      ]
     },
     "metadata": {},
     "output_type": "display_data"
    }
   ],
   "source": [
    "ConfusionMatrixDisplay.from_estimator(best_xgb,xTest,yTest)\n",
    "plt.title('Confusion Matrix fro XGBoost classifier')\n",
    "plt.show()"
   ]
  },
  {
   "cell_type": "markdown",
   "id": "312e9b57",
   "metadata": {},
   "source": [
    "# ROC AUC Curve"
   ]
  },
  {
   "cell_type": "code",
   "execution_count": 113,
   "id": "382961c0",
   "metadata": {},
   "outputs": [
    {
     "data": {
      "image/png": "[encoded data removed]",
      "text/plain": [
       "<Figure size 640x480 with 1 Axes>"
      ]
     },
     "metadata": {},
     "output_type": "display_data"
    }
   ],
   "source": [
    "RocCurveDisplay.from_estimator(best_xgb,xTest,yTest)\n",
    "plt.title('ROC AUC Curve for XGBoost classifier')\n",
    "plt.show()"
   ]
  },
  {
   "cell_type": "markdown",
   "id": "7beddab8",
   "metadata": {},
   "source": [
    "# Precision Curve "
   ]
  },
  {
   "cell_type": "code",
   "execution_count": 115,
   "id": "d548d569",
   "metadata": {},
   "outputs": [
    {
     "data": {
      "image/png": "[encoded data removed]",
      "text/plain": [
       "<Figure size 640x480 with 1 Axes>"
      ]
     },
     "metadata": {},
     "output_type": "display_data"
    }
   ],
   "source": [
    "PrecisionRecallDisplay.from_estimator(best_xgb,xTest,yTest)\n",
    "plt.title('Precision Curve for XGBoost classifier')\n",
    "plt.show()"
   ]
  },
  {
   "cell_type": "code",
   "execution_count": null,
   "id": "78e5d5da",
   "metadata": {},
   "outputs": [],
   "source": []
  }
 ],
 "metadata": {
  "kernelspec": {
   "display_name": "Python 3 (ipykernel)",
   "language": "python",
   "name": "python3"
  },
  "language_info": {
   "codemirror_mode": {
    "name": "ipython",
    "version": 3
   },
   "file_extension": ".py",
   "mimetype": "text/x-python",
   "name": "python",
   "nbconvert_exporter": "python",
   "pygments_lexer": "ipython3",
   "version": "3.11.5"
  }
 },
 "nbformat": 4,
 "nbformat_minor": 5
}
